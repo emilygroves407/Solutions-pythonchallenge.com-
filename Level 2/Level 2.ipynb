{
 "cells": [
  {
   "cell_type": "code",
   "execution_count": null,
   "id": "21c27655",
   "metadata": {},
   "outputs": [],
   "source": [
    "'''<!--\n",
    "find rare characters in the mess below:\n",
    "-->\n",
    "'''"
   ]
  },
  {
   "cell_type": "code",
   "execution_count": 1,
   "id": "a87191fd",
   "metadata": {},
   "outputs": [],
   "source": [
    "with open('Level_2_text.txt', mode='r') as text:\n",
    "    contents = text.read()"
   ]
  },
  {
   "cell_type": "code",
   "execution_count": 2,
   "id": "aba59807",
   "metadata": {},
   "outputs": [],
   "source": [
    "chrset = list(set(contents))"
   ]
  },
  {
   "cell_type": "code",
   "execution_count": 3,
   "id": "9ae13439",
   "metadata": {},
   "outputs": [],
   "source": [
    "chrquant = [contents.count(x) for x in chrset]"
   ]
  },
  {
   "cell_type": "code",
   "execution_count": 4,
   "id": "210678df",
   "metadata": {},
   "outputs": [
    {
     "name": "stdout",
     "output_type": "stream",
     "text": [
      "[(' ', 3), ('{', 6046), ('%', 6104), ('e', 1), ('s', 1), ('i', 1), ('y', 1), ('#', 6115), ('!', 6079), ('(', 6154), ('@', 6157), ('$', 6046), (']', 6152), ('_', 6112), (')', 6186), ('u', 1), ('+', 6066), ('a', 1), ('&', 6043), ('=', 1), ('\\n', 1221), ('*', 6034), ('[', 6108), ('^', 6030), ('c', 1), (\"'\", 6), ('l', 1), ('t', 1), ('h', 1), ('r', 1), ('q', 1), ('}', 6105)]\n"
     ]
    }
   ],
   "source": [
    "chrlist = []\n",
    "\n",
    "for i in chrset:\n",
    "    chrlist.append((i, contents.count(i),))\n",
    "\n",
    "print(chrlist)"
   ]
  },
  {
   "cell_type": "code",
   "execution_count": 5,
   "id": "043dec49",
   "metadata": {},
   "outputs": [
    {
     "name": "stdout",
     "output_type": "stream",
     "text": [
      "e\n",
      "s\n",
      "i\n",
      "y\n",
      "u\n",
      "a\n",
      "=\n",
      "c\n",
      "l\n",
      "t\n",
      "h\n",
      "r\n",
      "q\n"
     ]
    }
   ],
   "source": [
    "for x, y in chrlist:\n",
    "    if y==1:\n",
    "        print (x)"
   ]
  },
  {
   "cell_type": "code",
   "execution_count": null,
   "id": "529ee76d",
   "metadata": {},
   "outputs": [],
   "source": []
  }
 ],
 "metadata": {
  "kernelspec": {
   "display_name": "Python 3",
   "language": "python",
   "name": "python3"
  },
  "language_info": {
   "codemirror_mode": {
    "name": "ipython",
    "version": 3
   },
   "file_extension": ".py",
   "mimetype": "text/x-python",
   "name": "python",
   "nbconvert_exporter": "python",
   "pygments_lexer": "ipython3",
   "version": "3.8.8"
  }
 },
 "nbformat": 4,
 "nbformat_minor": 5
}
