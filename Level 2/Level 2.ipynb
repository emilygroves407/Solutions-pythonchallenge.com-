{
 "cells": [
  {
   "cell_type": "code",
   "execution_count": 5,
   "id": "8782f032",
   "metadata": {},
   "outputs": [],
   "source": [
    "with open('Level_2_text.txt', mode='r') as text:\n",
    "    contents = text.read()"
   ]
  },
  {
   "cell_type": "code",
   "execution_count": 7,
   "id": "d40e5eec",
   "metadata": {},
   "outputs": [],
   "source": [
    "chrset = list(set(contents))"
   ]
  },
  {
   "cell_type": "code",
   "execution_count": 9,
   "id": "3b745eda",
   "metadata": {},
   "outputs": [],
   "source": [
    "chrquant = [contents.count(x) for x in chrset]"
   ]
  },
  {
   "cell_type": "code",
   "execution_count": 21,
   "id": "e9622b94",
   "metadata": {},
   "outputs": [
    {
     "name": "stdout",
     "output_type": "stream",
     "text": [
      "[('q', 1), ('_', 6112), ('=', 1), ('r', 1), ('[', 6108), ('\\n', 1221), ('(', 6154), ('}', 6105), (' ', 3), ('%', 6104), ('e', 1), ('@', 6157), ('y', 1), (')', 6186), ('u', 1), ('s', 1), (']', 6152), ('a', 1), ('{', 6046), ('l', 1), ('&', 6043), ('i', 1), ('$', 6046), ('t', 1), ('#', 6115), ('h', 1), (\"'\", 6), ('c', 1), ('+', 6066), ('^', 6030), ('*', 6034), ('!', 6079)]\n"
     ]
    }
   ],
   "source": [
    "chrlist = []\n",
    "\n",
    "for i in chrset:\n",
    "    chrlist.append((i, contents.count(i),))\n",
    "\n",
    "print(chrlist)"
   ]
  },
  {
   "cell_type": "code",
   "execution_count": 22,
   "id": "f987473b",
   "metadata": {},
   "outputs": [
    {
     "name": "stdout",
     "output_type": "stream",
     "text": [
      "q\n",
      "=\n",
      "r\n",
      "e\n",
      "y\n",
      "u\n",
      "s\n",
      "a\n",
      "l\n",
      "i\n",
      "t\n",
      "h\n",
      "c\n"
     ]
    }
   ],
   "source": [
    "for x, y in chrlist:\n",
    "    if y==1:\n",
    "        print (x)"
   ]
  }
 ],
 "metadata": {
  "kernelspec": {
   "display_name": "Python 3",
   "language": "python",
   "name": "python3"
  },
  "language_info": {
   "codemirror_mode": {
    "name": "ipython",
    "version": 3
   },
   "file_extension": ".py",
   "mimetype": "text/x-python",
   "name": "python",
   "nbconvert_exporter": "python",
   "pygments_lexer": "ipython3",
   "version": "3.8.8"
  }
 },
 "nbformat": 4,
 "nbformat_minor": 5
}
