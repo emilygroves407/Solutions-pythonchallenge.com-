{
 "cells": [
  {
   "cell_type": "code",
   "execution_count": null,
   "id": "233bf1ec",
   "metadata": {},
   "outputs": [],
   "source": [
    "#Text to translate \n",
    "\n",
    "text = \"g fmnc wms bgblr rpylqjyrc gr zw fylb. rfyrq ufyr amknsrcpq ypc dmp. bmgle gr gl zw fylb gq glcddgagclr ylb rfyr'q ufw rfgq rcvr gq qm jmle. sqgle qrpgle.kyicrpylq() gq pcamkkclbcb. lmu ynnjw ml rfc spj\""
   ]
  },
  {
   "cell_type": "code",
   "execution_count": null,
   "id": "86114649",
   "metadata": {},
   "outputs": [],
   "source": [
    "#The below function replaces each letter with a letter n places down the alphabet \n",
    "# Default required for this solution is 2 \n",
    "#Spacing and punctuation are preserved\n",
    "\n",
    "def lettershifter(text, size_shift=2):\n",
    "    \n",
    "    import string\n",
    "    alphlist = list(string.ascii_lowercase)\n",
    "    \n",
    "    newtext = \"\"\n",
    "    \n",
    "    for t in text:\n",
    "        if t in alphlist:\n",
    "            if alphlist.index(t) + size_shift > 25:\n",
    "            #For cases in which the shift extends beyond the end of the alphabet and/or shift provided is very large\n",
    "                newtext += t.replace(t, alphlist[(alphlist.index(t) + size_shift) % 26])\n",
    "            else:\n",
    "                newtext += t.replace(t, alphlist[alphlist.index(t)+ size_shift])\n",
    "        else:\n",
    "            newtext += t\n",
    "            \n",
    "    return newtext.capitalize()"
   ]
  },
  {
   "cell_type": "code",
   "execution_count": null,
   "id": "777dd33c",
   "metadata": {},
   "outputs": [],
   "source": [
    "#Running lettershifter(text) should return the following\n",
    "\n",
    "\"\"\"\n",
    "    I hope you didnt translate it by hand. thats what computers are for. doing it in by hand is inefficient and that's why this text is so long. using string.maketrans() is recommended. now apply on the url\n",
    "\"\"\""
   ]
  }
 ],
 "metadata": {
  "kernelspec": {
   "display_name": "Python 3",
   "language": "python",
   "name": "python3"
  },
  "language_info": {
   "codemirror_mode": {
    "name": "ipython",
    "version": 3
   },
   "file_extension": ".py",
   "mimetype": "text/x-python",
   "name": "python",
   "nbconvert_exporter": "python",
   "pygments_lexer": "ipython3",
   "version": "3.8.8"
  }
 },
 "nbformat": 4,
 "nbformat_minor": 5
}
